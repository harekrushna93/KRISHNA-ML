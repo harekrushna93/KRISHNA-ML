{
 "cells": [
  {
   "cell_type": "code",
   "execution_count": 54,
   "id": "145b8415",
   "metadata": {},
   "outputs": [],
   "source": [
    "import pandas as pd\n",
    "import matplotlib.pyplot as plt\n",
    "import plotly.express as px\n",
    "import numpy as np"
   ]
  },
  {
   "cell_type": "code",
   "execution_count": 55,
   "id": "72825595",
   "metadata": {},
   "outputs": [
    {
     "data": {
      "text/html": [
       "<div>\n",
       "<style scoped>\n",
       "    .dataframe tbody tr th:only-of-type {\n",
       "        vertical-align: middle;\n",
       "    }\n",
       "\n",
       "    .dataframe tbody tr th {\n",
       "        vertical-align: top;\n",
       "    }\n",
       "\n",
       "    .dataframe thead th {\n",
       "        text-align: right;\n",
       "    }\n",
       "</style>\n",
       "<table border=\"1\" class=\"dataframe\">\n",
       "  <thead>\n",
       "    <tr style=\"text-align: right;\">\n",
       "      <th></th>\n",
       "      <th>Id</th>\n",
       "      <th>LotArea</th>\n",
       "      <th>OverallQual</th>\n",
       "      <th>1stFlrSF</th>\n",
       "      <th>GrLivArea</th>\n",
       "      <th>TotRmsAbvGrd</th>\n",
       "      <th>GarageCars</th>\n",
       "      <th>GarageArea</th>\n",
       "      <th>SalePrice</th>\n",
       "    </tr>\n",
       "  </thead>\n",
       "  <tbody>\n",
       "    <tr>\n",
       "      <th>Id</th>\n",
       "      <td>1.000000</td>\n",
       "      <td>-0.033226</td>\n",
       "      <td>-0.028365</td>\n",
       "      <td>0.010496</td>\n",
       "      <td>0.008273</td>\n",
       "      <td>0.027239</td>\n",
       "      <td>0.016570</td>\n",
       "      <td>0.017634</td>\n",
       "      <td>-0.021917</td>\n",
       "    </tr>\n",
       "    <tr>\n",
       "      <th>LotArea</th>\n",
       "      <td>-0.033226</td>\n",
       "      <td>1.000000</td>\n",
       "      <td>0.105806</td>\n",
       "      <td>0.299475</td>\n",
       "      <td>0.263116</td>\n",
       "      <td>0.190015</td>\n",
       "      <td>0.154871</td>\n",
       "      <td>0.180403</td>\n",
       "      <td>0.263843</td>\n",
       "    </tr>\n",
       "    <tr>\n",
       "      <th>OverallQual</th>\n",
       "      <td>-0.028365</td>\n",
       "      <td>0.105806</td>\n",
       "      <td>1.000000</td>\n",
       "      <td>0.476224</td>\n",
       "      <td>0.593007</td>\n",
       "      <td>0.427452</td>\n",
       "      <td>0.600671</td>\n",
       "      <td>0.562022</td>\n",
       "      <td>0.790982</td>\n",
       "    </tr>\n",
       "    <tr>\n",
       "      <th>1stFlrSF</th>\n",
       "      <td>0.010496</td>\n",
       "      <td>0.299475</td>\n",
       "      <td>0.476224</td>\n",
       "      <td>1.000000</td>\n",
       "      <td>0.566024</td>\n",
       "      <td>0.409516</td>\n",
       "      <td>0.439317</td>\n",
       "      <td>0.489782</td>\n",
       "      <td>0.605852</td>\n",
       "    </tr>\n",
       "    <tr>\n",
       "      <th>GrLivArea</th>\n",
       "      <td>0.008273</td>\n",
       "      <td>0.263116</td>\n",
       "      <td>0.593007</td>\n",
       "      <td>0.566024</td>\n",
       "      <td>1.000000</td>\n",
       "      <td>0.825489</td>\n",
       "      <td>0.467247</td>\n",
       "      <td>0.468997</td>\n",
       "      <td>0.708624</td>\n",
       "    </tr>\n",
       "    <tr>\n",
       "      <th>TotRmsAbvGrd</th>\n",
       "      <td>0.027239</td>\n",
       "      <td>0.190015</td>\n",
       "      <td>0.427452</td>\n",
       "      <td>0.409516</td>\n",
       "      <td>0.825489</td>\n",
       "      <td>1.000000</td>\n",
       "      <td>0.362289</td>\n",
       "      <td>0.337822</td>\n",
       "      <td>0.533723</td>\n",
       "    </tr>\n",
       "    <tr>\n",
       "      <th>GarageCars</th>\n",
       "      <td>0.016570</td>\n",
       "      <td>0.154871</td>\n",
       "      <td>0.600671</td>\n",
       "      <td>0.439317</td>\n",
       "      <td>0.467247</td>\n",
       "      <td>0.362289</td>\n",
       "      <td>1.000000</td>\n",
       "      <td>0.882475</td>\n",
       "      <td>0.640409</td>\n",
       "    </tr>\n",
       "    <tr>\n",
       "      <th>GarageArea</th>\n",
       "      <td>0.017634</td>\n",
       "      <td>0.180403</td>\n",
       "      <td>0.562022</td>\n",
       "      <td>0.489782</td>\n",
       "      <td>0.468997</td>\n",
       "      <td>0.337822</td>\n",
       "      <td>0.882475</td>\n",
       "      <td>1.000000</td>\n",
       "      <td>0.623431</td>\n",
       "    </tr>\n",
       "    <tr>\n",
       "      <th>SalePrice</th>\n",
       "      <td>-0.021917</td>\n",
       "      <td>0.263843</td>\n",
       "      <td>0.790982</td>\n",
       "      <td>0.605852</td>\n",
       "      <td>0.708624</td>\n",
       "      <td>0.533723</td>\n",
       "      <td>0.640409</td>\n",
       "      <td>0.623431</td>\n",
       "      <td>1.000000</td>\n",
       "    </tr>\n",
       "  </tbody>\n",
       "</table>\n",
       "</div>"
      ],
      "text/plain": [
       "                    Id   LotArea  OverallQual  1stFlrSF  GrLivArea  \\\n",
       "Id            1.000000 -0.033226    -0.028365  0.010496   0.008273   \n",
       "LotArea      -0.033226  1.000000     0.105806  0.299475   0.263116   \n",
       "OverallQual  -0.028365  0.105806     1.000000  0.476224   0.593007   \n",
       "1stFlrSF      0.010496  0.299475     0.476224  1.000000   0.566024   \n",
       "GrLivArea     0.008273  0.263116     0.593007  0.566024   1.000000   \n",
       "TotRmsAbvGrd  0.027239  0.190015     0.427452  0.409516   0.825489   \n",
       "GarageCars    0.016570  0.154871     0.600671  0.439317   0.467247   \n",
       "GarageArea    0.017634  0.180403     0.562022  0.489782   0.468997   \n",
       "SalePrice    -0.021917  0.263843     0.790982  0.605852   0.708624   \n",
       "\n",
       "              TotRmsAbvGrd  GarageCars  GarageArea  SalePrice  \n",
       "Id                0.027239    0.016570    0.017634  -0.021917  \n",
       "LotArea           0.190015    0.154871    0.180403   0.263843  \n",
       "OverallQual       0.427452    0.600671    0.562022   0.790982  \n",
       "1stFlrSF          0.409516    0.439317    0.489782   0.605852  \n",
       "GrLivArea         0.825489    0.467247    0.468997   0.708624  \n",
       "TotRmsAbvGrd      1.000000    0.362289    0.337822   0.533723  \n",
       "GarageCars        0.362289    1.000000    0.882475   0.640409  \n",
       "GarageArea        0.337822    0.882475    1.000000   0.623431  \n",
       "SalePrice         0.533723    0.640409    0.623431   1.000000  "
      ]
     },
     "execution_count": 55,
     "metadata": {},
     "output_type": "execute_result"
    }
   ],
   "source": [
    "df = pd.read_csv('E:\\\\machine learning\\\\Housepriceprediction.csv')\n",
    "df.corr()"
   ]
  },
  {
   "cell_type": "code",
   "execution_count": 56,
   "id": "904af833",
   "metadata": {},
   "outputs": [],
   "source": [
    "x = df.LotArea\n",
    "y = df.SalePrice"
   ]
  },
  {
   "cell_type": "code",
   "execution_count": 57,
   "id": "ad8a828b",
   "metadata": {},
   "outputs": [
    {
     "data": {
      "text/plain": [
       "<matplotlib.collections.PathCollection at 0x2a85c5702b0>"
      ]
     },
     "execution_count": 57,
     "metadata": {},
     "output_type": "execute_result"
    },
    {
     "data": {
      "image/png": "[encoded data removed]",
      "text/plain": [
       "<Figure size 432x288 with 1 Axes>"
      ]
     },
     "metadata": {
      "needs_background": "light"
     },
     "output_type": "display_data"
    }
   ],
   "source": [
    "plt.scatter(x, y)"
   ]
  },
  {
   "cell_type": "code",
   "execution_count": 58,
   "id": "51cdfff3",
   "metadata": {},
   "outputs": [],
   "source": [
    "# let y = c0 + c1*x+ c2x**2\n",
    "c = np.ones(3)\n",
    "def h():\n",
    "    h = c[0] + c[1]*x + c[2]*x*x\n",
    "    return h\n",
    "def  costfun ():\n",
    "    j = (sum(np.square(c0 + c1*x + c2*x*x - y)))/(2*len(x))\n",
    "    return j"
   ]
  },
  {
   "cell_type": "code",
   "execution_count": 59,
   "id": "a8de9d67",
   "metadata": {},
   "outputs": [
    {
     "name": "stdout",
     "output_type": "stream",
     "text": [
      "[8.02859524e-01 7.55673514e-01 1.53206811e-05]\n"
     ]
    },
    {
     "data": {
      "image/png": "[encoded data removed]",
      "text/plain": [
       "<Figure size 432x288 with 1 Axes>"
      ]
     },
     "metadata": {
      "needs_background": "light"
     },
     "output_type": "display_data"
    }
   ],
   "source": [
    "p = np.zeros(3)\n",
    "e = []\n",
    "itr = 100\n",
    "l = 0.0000000000000000000001\n",
    "c = np.random.random(3)\n",
    "for i in range(itr):\n",
    "    p[0] = c[0] - l*(sum(c[0] + c[1]*x + c[2]*x*x - y))\n",
    "    p[1] = c[1] - l*sum((h() - y)*x)\n",
    "    p[2] = c[2] - l*sum((h() - y)*x*x)\n",
    "    error = (sum(np.square(c[0] + c[1]*x + c[2]*x*x - y)))/(2*len(x))\n",
    "    e.append(error)\n",
    "    c = p.copy()     \n",
    "plt.plot(e,np.arange(itr));\n",
    "print(c)"
   ]
  },
  {
   "cell_type": "code",
   "execution_count": 60,
   "id": "0ff4854b",
   "metadata": {},
   "outputs": [
    {
     "data": {
      "text/plain": [
       "-4.605256136517061"
      ]
     },
     "execution_count": 60,
     "metadata": {},
     "output_type": "execute_result"
    }
   ],
   "source": [
    "R2 = 1 - (sum(np.square(y - h()))/sum(np.square(y - y.mean())))\n",
    "R2"
   ]
  },
  {
   "cell_type": "code",
   "execution_count": 61,
   "id": "19a6ae0f",
   "metadata": {
    "scrolled": true
   },
   "outputs": [
    {
     "data": {
      "text/plain": [
       "0        7480.178981\n",
       "1        8667.222559\n",
       "2       10441.153588\n",
       "3        8614.769332\n",
       "4       13892.130892\n",
       "            ...     \n",
       "1455     6943.753336\n",
       "1456    12616.174799\n",
       "1457     8086.187399\n",
       "1458     8790.262463\n",
       "1459     9022.755423\n",
       "Name: LotArea, Length: 1460, dtype: float64"
      ]
     },
     "execution_count": 61,
     "metadata": {},
     "output_type": "execute_result"
    }
   ],
   "source": [
    "h()"
   ]
  },
  {
   "cell_type": "code",
   "execution_count": 62,
   "id": "890c37e9",
   "metadata": {},
   "outputs": [
    {
     "data": {
      "text/plain": [
       "0       208500\n",
       "1       181500\n",
       "2       223500\n",
       "3       140000\n",
       "4       250000\n",
       "         ...  \n",
       "1455    175000\n",
       "1456    210000\n",
       "1457    266500\n",
       "1458    142125\n",
       "1459    147500\n",
       "Name: SalePrice, Length: 1460, dtype: int64"
      ]
     },
     "execution_count": 62,
     "metadata": {},
     "output_type": "execute_result"
    }
   ],
   "source": [
    "y"
   ]
  },
  {
   "cell_type": "code",
   "execution_count": 63,
   "id": "831a88d4",
   "metadata": {},
   "outputs": [
    {
     "data": {
      "text/plain": [
       "count      1460.000000\n",
       "mean     180921.195890\n",
       "std       79442.502883\n",
       "min       34900.000000\n",
       "25%      129975.000000\n",
       "50%      163000.000000\n",
       "75%      214000.000000\n",
       "max      755000.000000\n",
       "Name: SalePrice, dtype: float64"
      ]
     },
     "execution_count": 63,
     "metadata": {},
     "output_type": "execute_result"
    }
   ],
   "source": [
    "y.describe()"
   ]
  },
  {
   "cell_type": "code",
   "execution_count": 64,
   "id": "c3c85ff4",
   "metadata": {},
   "outputs": [
    {
     "data": {
      "text/plain": [
       "array([[ 8450],\n",
       "       [ 9600],\n",
       "       [11250],\n",
       "       ...,\n",
       "       [ 9042],\n",
       "       [ 9717],\n",
       "       [ 9937]], dtype=int64)"
      ]
     },
     "execution_count": 64,
     "metadata": {},
     "output_type": "execute_result"
    }
   ],
   "source": [
    "X = df.iloc[:,1].values\n",
    "x1= X.reshape(-1,1)\n",
    "x1"
   ]
  },
  {
   "cell_type": "markdown",
   "id": "6f115b23",
   "metadata": {},
   "source": [
    "# Polyn omial Regression with one features"
   ]
  },
  {
   "cell_type": "code",
   "execution_count": 65,
   "id": "eae6d125",
   "metadata": {},
   "outputs": [
    {
     "data": {
      "text/plain": [
       "array([172280.36803008, 178642.27849294, 187643.04470688, ...,\n",
       "       175564.46330738, 179285.45259371, 180492.79865854])"
      ]
     },
     "execution_count": 65,
     "metadata": {},
     "output_type": "execute_result"
    }
   ],
   "source": [
    "from sklearn.preprocessing import PolynomialFeatures\n",
    "from sklearn.linear_model import LinearRegression\n",
    "poly = PolynomialFeatures(degree = 2, include_bias = False)\n",
    "poly_features = poly.fit_transform(x1)\n",
    "poly_reg_modl = LinearRegression()\n",
    "poly_reg_modl.fit(poly_features,y)\n",
    "y_predict = poly_reg_modl.predict(poly_features)\n",
    "y_predict"
   ]
  },
  {
   "cell_type": "code",
   "execution_count": 66,
   "id": "763bc910",
   "metadata": {},
   "outputs": [
    {
     "data": {
      "text/plain": [
       "0.13610758142019386"
      ]
     },
     "execution_count": 66,
     "metadata": {},
     "output_type": "execute_result"
    }
   ],
   "source": [
    "from sklearn.metrics import r2_score\n",
    "r2_score = r2_score(y, y_predict)\n",
    "r2_score"
   ]
  },
  {
   "cell_type": "markdown",
   "id": "56228659",
   "metadata": {},
   "source": [
    "# Polynomial Regression with two features"
   ]
  },
  {
   "cell_type": "code",
   "execution_count": 67,
   "id": "639c32fa",
   "metadata": {},
   "outputs": [
    {
     "data": {
      "text/html": [
       "<div>\n",
       "<style scoped>\n",
       "    .dataframe tbody tr th:only-of-type {\n",
       "        vertical-align: middle;\n",
       "    }\n",
       "\n",
       "    .dataframe tbody tr th {\n",
       "        vertical-align: top;\n",
       "    }\n",
       "\n",
       "    .dataframe thead th {\n",
       "        text-align: right;\n",
       "    }\n",
       "</style>\n",
       "<table border=\"1\" class=\"dataframe\">\n",
       "  <thead>\n",
       "    <tr style=\"text-align: right;\">\n",
       "      <th></th>\n",
       "      <th>x0</th>\n",
       "      <th>x1</th>\n",
       "      <th>y</th>\n",
       "    </tr>\n",
       "  </thead>\n",
       "  <tbody>\n",
       "    <tr>\n",
       "      <th>0</th>\n",
       "      <td>8450</td>\n",
       "      <td>7</td>\n",
       "      <td>208500</td>\n",
       "    </tr>\n",
       "    <tr>\n",
       "      <th>1</th>\n",
       "      <td>9600</td>\n",
       "      <td>6</td>\n",
       "      <td>181500</td>\n",
       "    </tr>\n",
       "    <tr>\n",
       "      <th>2</th>\n",
       "      <td>11250</td>\n",
       "      <td>7</td>\n",
       "      <td>223500</td>\n",
       "    </tr>\n",
       "    <tr>\n",
       "      <th>3</th>\n",
       "      <td>9550</td>\n",
       "      <td>7</td>\n",
       "      <td>140000</td>\n",
       "    </tr>\n",
       "    <tr>\n",
       "      <th>4</th>\n",
       "      <td>14260</td>\n",
       "      <td>8</td>\n",
       "      <td>250000</td>\n",
       "    </tr>\n",
       "    <tr>\n",
       "      <th>...</th>\n",
       "      <td>...</td>\n",
       "      <td>...</td>\n",
       "      <td>...</td>\n",
       "    </tr>\n",
       "    <tr>\n",
       "      <th>1455</th>\n",
       "      <td>7917</td>\n",
       "      <td>6</td>\n",
       "      <td>175000</td>\n",
       "    </tr>\n",
       "    <tr>\n",
       "      <th>1456</th>\n",
       "      <td>13175</td>\n",
       "      <td>6</td>\n",
       "      <td>210000</td>\n",
       "    </tr>\n",
       "    <tr>\n",
       "      <th>1457</th>\n",
       "      <td>9042</td>\n",
       "      <td>7</td>\n",
       "      <td>266500</td>\n",
       "    </tr>\n",
       "    <tr>\n",
       "      <th>1458</th>\n",
       "      <td>9717</td>\n",
       "      <td>5</td>\n",
       "      <td>142125</td>\n",
       "    </tr>\n",
       "    <tr>\n",
       "      <th>1459</th>\n",
       "      <td>9937</td>\n",
       "      <td>5</td>\n",
       "      <td>147500</td>\n",
       "    </tr>\n",
       "  </tbody>\n",
       "</table>\n",
       "<p>1460 rows × 3 columns</p>\n",
       "</div>"
      ],
      "text/plain": [
       "         x0  x1       y\n",
       "0      8450   7  208500\n",
       "1      9600   6  181500\n",
       "2     11250   7  223500\n",
       "3      9550   7  140000\n",
       "4     14260   8  250000\n",
       "...     ...  ..     ...\n",
       "1455   7917   6  175000\n",
       "1456  13175   6  210000\n",
       "1457   9042   7  266500\n",
       "1458   9717   5  142125\n",
       "1459   9937   5  147500\n",
       "\n",
       "[1460 rows x 3 columns]"
      ]
     },
     "execution_count": 67,
     "metadata": {},
     "output_type": "execute_result"
    }
   ],
   "source": [
    "x0 = df.iloc[:,1]\n",
    "x1 = df.iloc[:,2]\n",
    "data = pd.DataFrame({'x0':x0, 'x1':x1, 'y':y})\n",
    "data"
   ]
  },
  {
   "cell_type": "code",
   "execution_count": 68,
   "id": "022c2853",
   "metadata": {},
   "outputs": [
    {
     "data": {
      "text/plain": [
       "array([206749.65584735, 163637.93919901, 215148.45325725, ...,\n",
       "       208543.17800956, 129861.38950894, 130565.10355541])"
      ]
     },
     "execution_count": 68,
     "metadata": {},
     "output_type": "execute_result"
    }
   ],
   "source": [
    "X,Y = data[['x0', 'x1']], data.y\n",
    "poly = PolynomialFeatures(degree = 2, include_bias = False)\n",
    "poly_fit = poly.fit_transform(X)\n",
    "poly_reg_modl.fit(poly_fit, Y)\n",
    "y_predict = poly_reg_modl.predict(poly_fit)\n",
    "y_predict"
   ]
  },
  {
   "cell_type": "code",
   "execution_count": 69,
   "id": "e3301fba",
   "metadata": {},
   "outputs": [
    {
     "data": {
      "text/plain": [
       "0.723865595452269"
      ]
     },
     "execution_count": 69,
     "metadata": {},
     "output_type": "execute_result"
    }
   ],
   "source": [
    "from sklearn.metrics import r2_score\n",
    "r2_score = r2_score(y,y_predict)\n",
    "r2_score"
   ]
  },
  {
   "cell_type": "code",
   "execution_count": null,
   "id": "2a05eb5f",
   "metadata": {},
   "outputs": [],
   "source": []
  },
  {
   "cell_type": "code",
   "execution_count": null,
   "id": "d39d5203",
   "metadata": {},
   "outputs": [],
   "source": []
  }
 ],
 "metadata": {
  "kernelspec": {
   "display_name": "Python 3",
   "language": "python",
   "name": "python3"
  },
  "language_info": {
   "codemirror_mode": {
    "name": "ipython",
    "version": 3
   },
   "file_extension": ".py",
   "mimetype": "text/x-python",
   "name": "python",
   "nbconvert_exporter": "python",
   "pygments_lexer": "ipython3",
   "version": "3.8.8"
  }
 },
 "nbformat": 4,
 "nbformat_minor": 5
}
